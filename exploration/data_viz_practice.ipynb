{
 "cells": [
  {
   "cell_type": "code",
   "execution_count": null,
   "metadata": {},
   "outputs": [],
   "source": [
    "import pandas as pd\n",
    "import altair as alt\n",
    "import vega_datasets\n",
    "alt.data_transformers.disable_max_rows()"
   ]
  },
  {
   "cell_type": "code",
   "execution_count": null,
   "metadata": {},
   "outputs": [],
   "source": [
    "hatecrimes = pd.read_csv(\"../data/hate_crime.csv\")\n",
    "alt.themes.enable('fivethirtyeight')"
   ]
  },
  {
   "cell_type": "code",
   "execution_count": null,
   "metadata": {},
   "outputs": [],
   "source": [
    "# GRAPH 1 -- HEATMAP (SEASONALITY)\n",
    "alt.Chart(hatecrimes, title=\"Seasonality of Hate Crimes\").mark_rect().encode(\n",
    "    alt.X('date(incident_date):O').title(\"Date\"),\n",
    "    alt.Y('month(incident_date):O').title(\"Month\"),\n",
    "    alt.Color('count()').title(\"Incidents\").scale(scheme='orangered')\n",
    ").display()"
   ]
  },
  {
   "cell_type": "markdown",
   "metadata": {},
   "source": [
    "This heatmap demonstrates the seasonality of hate crimes by showing the days and months in which hate crimes surge. We see here, across the 30+ years represented in this dataset, hate crimes are concentrated in the middle of September/end of October, and are less frequent in December. I hope to use this graph in my final narrative to show when hate crimes are most likely to occur."
   ]
  },
  {
   "cell_type": "code",
   "execution_count": null,
   "metadata": {},
   "outputs": [],
   "source": [
    "# GRAPH 2 -- LINE CHART (ALL TIME)\n",
    "alt.Chart(hatecrimes, title='Hate Crimes Over Time').mark_line().encode(\n",
    "        alt.X('data_year:O').title(\"Year\"),\n",
    "        alt.Y('count():N').title(\"Hate Crime Incidents\"),\n",
    "        color=alt.value(\"#ad2e03\")\n",
    "    ).display()"
   ]
  },
  {
   "cell_type": "markdown",
   "metadata": {},
   "source": [
    "This simple line chart demonstrates the prevalence of hate crimes over time -- specifically from 1991-2023. We see a particular surge in 2001, as well as a steady increase since 2018. I hope to use this chart in the final narrative as a simple way to understand the changing rate of hate crimes over time."
   ]
  },
  {
   "cell_type": "code",
   "execution_count": null,
   "metadata": {},
   "outputs": [],
   "source": [
    "# Cleaning pandas 'bias description' variable\n",
    "#hatecrimes.groupby(['bias_desc']).size().sort_values(ascending=False).head(10)\n",
    "# Most popular hate crimes are anti Black, Jewish, White, Gay, Hispanic, Other Race, LGBT, Asian, Multi-Race, Lesbian"
   ]
  },
  {
   "cell_type": "code",
   "execution_count": null,
   "metadata": {},
   "outputs": [],
   "source": [
    "# GRAPH 3 -- LINE CHART (BIAS)\n",
    "top10 = [\"Anti-Black or African American\", \"Anti-Jewish\", \"Anti-White\", \"Anti-Gay (Male)\", \"Anti-Hispanic or Latino\", \"Anti-Other Race/Ethnicity/Ancestry\",\"Anti-Lesbian, Gay, Bisexual, or Transgender (Mixed Group)\", \"Anti-Asian\", \"Anti-Multiple Races, Group\", \"Anti-Lesbian (Female)\"]\n",
    "hatecrimestop10 = hatecrimes.loc[hatecrimes['bias_desc'].isin(top10)]\n",
    "alt.Chart(hatecrimestop10, title=\"Hate Crimes by Bias Over Time\").mark_line().encode(\n",
    "        alt.X('data_year:O').title(\"Year\"),\n",
    "        alt.Y('count():N').title(\"Incidents\"),\n",
    "        alt.Color('bias_desc:N', legend=alt.Legend(labelLimit=300)).title(\"Crime Bias\").scale(scheme='category10')\n",
    "    ).display()"
   ]
  },
  {
   "cell_type": "markdown",
   "metadata": {},
   "source": [
    "This line graph demonstrates the prevalence of hate crimes over time, but broken down the \"bias\" of the crime. We can see that Anti-Black crimes are the most prevalent type of hate-crime every year, while Anti-Jewish hate crimes have streadily risen since 2021. I hope to use this graph to demonstrate how hate crimes affect different populations at different rates, and how those rates change over time.\n",
    "Note: There are over 300 types of bias represented in this dataset. For this graph, only the ten biases with the highest hate crime rate were depicted."
   ]
  },
  {
   "cell_type": "code",
   "execution_count": 7,
   "metadata": {},
   "outputs": [],
   "source": [
    "from vega_datasets import data\n",
    "states = alt.topo_feature(data.us_10m.url, feature='states')"
   ]
  },
  {
   "cell_type": "code",
   "execution_count": 8,
   "metadata": {},
   "outputs": [],
   "source": [
    "pop = data.population_engineers_hurricanes(usecols=['state', 'id'])"
   ]
  },
  {
   "cell_type": "code",
   "execution_count": 9,
   "metadata": {},
   "outputs": [],
   "source": [
    "hatecrimes_w_ids = hatecrimes.merge(pop, left_on='state_name', right_on='state')\n",
    "state_counts = hatecrimes_w_ids.groupby(['id'], as_index=False).size()\n"
   ]
  },
  {
   "cell_type": "code",
   "execution_count": null,
   "metadata": {},
   "outputs": [],
   "source": [
    "# GRAPH 4 -- US MAP\n",
    "states = alt.topo_feature(data.us_10m.url, 'states')\n",
    "alt.Chart(states, title=\"Hate Crimes Across the U.S.\").mark_geoshape().encode(\n",
    "    alt.Color('size:Q').scale(scheme='browns').title(\"Hate Crime Incidents\")\n",
    ").transform_lookup(\n",
    "    lookup='id',\n",
    "    from_=alt.LookupData(state_counts, 'id', list(state_counts.columns))\n",
    ").project(\n",
    "    type='albersUsa'\n",
    ").properties(\n",
    "    width=500,\n",
    "    height=300\n",
    ")"
   ]
  },
  {
   "cell_type": "markdown",
   "metadata": {},
   "source": [
    "This chloropleth map illustrates the prevalence of hate crimes across the United States, coloring each state by its total number of hate crime incidents from 1991-2023. We see California has by far the highest rate of hate crimes, with New York/New Jersey also showing higher rates. I hope to use this map to demonstrate not only where hate crimes occur, but address and possibly dispel stereotypes about hate crimes being concentrated in \"conservative\" areas of the country."
   ]
  },
  {
   "cell_type": "code",
   "execution_count": null,
   "metadata": {},
   "outputs": [],
   "source": [
    "# GRAPH 5 -- BAR CHART (OFFENDER RACE)\n",
    "alt.Chart(hatecrimes, title=\"Hate Crimes by Offender Race\").mark_bar().encode(\n",
    "        alt.Y('offender_race:O', axis=alt.Axis(labelLimit=200)).title(\"Offender Race\").sort('-x'),\n",
    "        alt.X('count():N').title(\"Hate Crime Incidents\"),\n",
    "        color=alt.value(\"#ad2e03\")\n",
    "    ).display()"
   ]
  },
  {
   "cell_type": "markdown",
   "metadata": {},
   "source": [
    "This bar chart demonstrates the amount of total hate crime incidents grouped by offender race. We see that most hate crimes are committed by white individuals, but there is a lot of missing data (\"Unknown\" offender race). I want to use this graph to complement the previous bar chart that shows the most prevalent biases in hate crimes. "
   ]
  },
  {
   "cell_type": "code",
   "execution_count": 9,
   "metadata": {},
   "outputs": [],
   "source": [
    "# Tracking hate crimes specifically in 2019-2023\n",
    "years = [2019, 2020, 2021, 2022, 2023]\n",
    "hatecrimes1924= hatecrimes.loc[hatecrimes['data_year'].isin(years)]"
   ]
  },
  {
   "cell_type": "code",
   "execution_count": 10,
   "metadata": {},
   "outputs": [],
   "source": [
    "hatecrimes1924.groupby(['bias_desc']).size().sort_values(ascending=False).head(10)\n",
    "top10_rec = [\"Anti-Black or African American\", \"Anti-Jewish\", \"Anti-White\", \"Anti-Gay (Male)\", \"Anti-Hispanic or Latino\", \"Anti-Other Race/Ethnicity/Ancestry\",\"Anti-Lesbian, Gay, Bisexual, or Transgender (Mixed Group)\", \"Anti-Asian\", \"Anti-Multiple Races, Group\", \"Anti-Transgender\"]\n",
    "hatecrimestop10_rec = hatecrimes1924.loc[hatecrimes1924['bias_desc'].isin(top10_rec)]\n"
   ]
  },
  {
   "cell_type": "code",
   "execution_count": null,
   "metadata": {},
   "outputs": [],
   "source": [
    "# GRAPH 6 - LINE GRAPH (RECENT EVENTS)\n",
    "main_c = alt.Chart(hatecrimestop10_rec, title=\"Top Hate Crimes From 2019-2023\").mark_line().encode(\n",
    "        alt.X('yearmonth(incident_date):O').title('Month'),\n",
    "        alt.Y('count()').title('Hate Crime Incidents'), \n",
    "        alt.Color('bias_desc:N', legend=alt.Legend(labelLimit=300)).title(\"Bias\")\n",
    "    )\n",
    "\n",
    "text1 = alt.Chart({'values': [{'x': 100, 'y': 500}]}).mark_text(\n",
    "    text=\"Murder of George Floyd\").encode(\n",
    "        alt.X('x:Q', axis=None),\n",
    "        y='y:Q')\n",
    "\n",
    "text2 = alt.Chart({'values': [{'x': 260, 'y': 150}]}).mark_text(\n",
    "    text=\"2021 Atlanta Spa Shootings\").encode(\n",
    "        alt.X('x:Q', axis=None),\n",
    "        y='y:Q')\n",
    "\n",
    "text3 = alt.Chart({'values': [{'x': 640, 'y': 300}]}).mark_text(\n",
    "    text=\"Hamas Attacks Israel\").encode(\n",
    "        alt.X('x:Q', axis=None).scale(domain=(-100, 100)),\n",
    "        y='y:Q')\n",
    "\n",
    "text = text3 + text2 + text1\n",
    "main_c + text\n",
    "# Want to add text here to note particular events that saw a spike -- George Floyd's murder, the 2021 Atlanta spa shootings, Oct. 7"
   ]
  },
  {
   "cell_type": "markdown",
   "metadata": {},
   "source": [
    "I view this graph as central to my narrative -- demonstrating how large-scale political events lead to an increase in targeted violence. This graph shows occurences of hate crimes throughout the past 5 years, focusing on the most prevalent biases in that timeframe. I've annotated the graph to mark notable sociopolitical events that may help explain sudden increases in hate crimes against certain groups."
   ]
  },
  {
   "cell_type": "code",
   "execution_count": null,
   "metadata": {},
   "outputs": [],
   "source": [
    "# GRAPH 7 - SCATTERPLOT?\n",
    "hatecrimes_people = hatecrimes.loc[hatecrimes['total_individual_victims'] > 0]\n",
    "alt.Chart(hatecrimes_people, title='Number of Offenders vs. Number of Victims').mark_circle().encode(\n",
    "    alt.X('total_offender_count').title(\"Total Offenders\"),\n",
    "    alt.Y('total_individual_victims').title(\"Total Victims\"),\n",
    "    color=alt.value(\"#ad2e03\")\n",
    ").display()"
   ]
  },
  {
   "cell_type": "markdown",
   "metadata": {},
   "source": [
    "This scatterplot focuses on the strange relationship between total offenders vs. total victims in hate crimes. Among crimes with at least 1 individual victim (i.e., not just property crime), most incidents appear to have less than 10 total offenders and less than 20 total victims. However, the events with the highest number of individual victims (above 60) appear to be largely perpetrated by individual offenders. Conversely, the hate crimes perpetrated by large groups (50+ offenders) appear to have fewer than average victims. I hope to use this graph in my final narrative to provide insight on \"who\" is perpetrating hate crimes -- individuals vs. large collected groups."
   ]
  },
  {
   "cell_type": "code",
   "execution_count": null,
   "metadata": {},
   "outputs": [],
   "source": [
    "# GRAPH 8 - BAR CHART (LOCATIONS)\n",
    "hatecrimes.groupby(['location_name']).size().sort_values(ascending=False).head(10)\n",
    "top_locs = [\"Residence/Home\", \"Highway/Road/Alley/Street/Sidewalk\", \"Other/Unknown\", \"School/College\", \"Parking/Drop Lot/Garage\", \"Church/Synagogue/Temple/Mosque\", \"Commercial/Office Building\", \"Restaurant\", \"School-Elementary/Secondary\", \"Bar/Nightclub\"]\n",
    "hatecrimestop10_loc = hatecrimes.loc[hatecrimes['location_name'].isin(top_locs)]\n",
    "\n",
    "alt.Chart(hatecrimestop10_loc, title=\"Top Locations of Hate Crimes\").mark_bar().encode(\n",
    "        alt.Y('location_name:O', axis=alt.Axis(labelLimit=200)).title(\"Location of Incident\").sort('-x'),\n",
    "        alt.X('count():N').title(\"Hate Crime Incidents\"),\n",
    "        color=alt.value(\"#ad2e03\")\n",
    "    ).display()"
   ]
  },
  {
   "cell_type": "markdown",
   "metadata": {},
   "source": [
    "Similar to the previous bar chart, this chart demonstrates the most common locations at which hate crimes occur. Far and away the most popular is personal residency, followed by roads and highways. While there are many cases of unknown location, I hope to use this graph to further focus on the \"where\" of hate crimes."
   ]
  }
 ],
 "metadata": {
  "kernelspec": {
   "display_name": "Python 3",
   "language": "python",
   "name": "python3"
  },
  "language_info": {
   "codemirror_mode": {
    "name": "ipython",
    "version": 3
   },
   "file_extension": ".py",
   "mimetype": "text/x-python",
   "name": "python",
   "nbconvert_exporter": "python",
   "pygments_lexer": "ipython3",
   "version": "3.10.12"
  }
 },
 "nbformat": 4,
 "nbformat_minor": 4
}
