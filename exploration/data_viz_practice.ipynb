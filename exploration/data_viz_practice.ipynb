{
 "cells": [
  {
   "cell_type": "code",
   "execution_count": null,
   "metadata": {},
   "outputs": [],
   "source": [
    "import pandas as pd\n",
    "import altair as alt\n",
    "import vega_datasets\n",
    "alt.data_transformers.disable_max_rows()"
   ]
  },
  {
   "cell_type": "code",
   "execution_count": 7,
   "metadata": {},
   "outputs": [],
   "source": [
    "hatecrimes = pd.read_csv(\"../data/hate_crime.csv\")"
   ]
  },
  {
   "cell_type": "code",
   "execution_count": null,
   "metadata": {},
   "outputs": [],
   "source": [
    "alt.Chart(hatecrimes).mark_rect().encode(\n",
    "    x='date(incident_date):O',\n",
    "    y='month(incident_date):O',\n",
    "    color='count()'\n",
    ").display()"
   ]
  },
  {
   "cell_type": "code",
   "execution_count": null,
   "metadata": {},
   "outputs": [],
   "source": [
    "alt.Chart(hatecrimes).mark_line().encode(\n",
    "        x='data_year:O',\n",
    "        y = 'count():N'\n",
    "    ).display()"
   ]
  },
  {
   "cell_type": "code",
   "execution_count": null,
   "metadata": {},
   "outputs": [],
   "source": [
    "alt.Chart(hatecrimes).mark_line().encode(\n",
    "        x='data_year:O',\n",
    "        y = 'count():N',\n",
    "        color='bias_desc:N'\n",
    "    ).display()"
   ]
  },
  {
   "cell_type": "code",
   "execution_count": null,
   "metadata": {},
   "outputs": [],
   "source": [
    "# Cleaning pandas 'bias description' variable\n",
    "#hatecrimes.groupby(['bias_desc']).size().sort_values(ascending=False).head(10)\n",
    "# Most popular hate crimes are anti Black, Jewish, White, Gay, Hispanic, Other Race, LGBT, Asian, Multi-Race, Lesbian"
   ]
  },
  {
   "cell_type": "code",
   "execution_count": null,
   "metadata": {},
   "outputs": [],
   "source": [
    "top10 = [\"Anti-Black or African American\", \"Anti-Jewish\", \"Anti-White\", \"Anti-Gay (Male)\", \"Anti-Hispanic or Latino\", \"Anti-Other Race/Ethnicity/Ancestry\",\"Anti-Lesbian, Gay, Bisexual, or Transgender (Mixed Group)\", \"Anti-Asian\", \"Anti-Multiple Races, Group\", \"Anti-Lesbian (Female)\"]\n",
    "hatecrimestop10 = hatecrimes.loc[hatecrimes['bias_desc'].isin(top10)]\n",
    "alt.Chart(hatecrimestop10).mark_line().encode(\n",
    "        x='data_year:O',\n",
    "        y = 'count():N',\n",
    "        color='bias_desc:N'\n",
    "    ).display()"
   ]
  },
  {
   "cell_type": "code",
   "execution_count": null,
   "metadata": {},
   "outputs": [],
   "source": [
    "# Here we can see that Anti-Black hate crimes are far more prevalent than other hate crimes, but have decreased from 2022-2023. Anti-Jewish hate crimes on the other hand, have risen since 2021"
   ]
  },
  {
   "cell_type": "code",
   "execution_count": 4,
   "metadata": {},
   "outputs": [],
   "source": [
    "from vega_datasets import data\n",
    "states = alt.topo_feature(data.us_10m.url, feature='states')"
   ]
  },
  {
   "cell_type": "code",
   "execution_count": 5,
   "metadata": {},
   "outputs": [],
   "source": [
    "pop = data.population_engineers_hurricanes(usecols=['state', 'id'])"
   ]
  },
  {
   "cell_type": "code",
   "execution_count": 6,
   "metadata": {},
   "outputs": [],
   "source": [
    "hatecrimes_w_ids = hatecrimes.merge(pop, left_on='state_name', right_on='state')"
   ]
  },
  {
   "cell_type": "code",
   "execution_count": null,
   "metadata": {},
   "outputs": [],
   "source": [
    "states = alt.topo_feature(data.us_10m.url, 'states')\n",
    "alt.Chart(states).mark_geoshape().encode(\n",
    "    color='size:Q'\n",
    ").transform_lookup(\n",
    "    lookup='id',\n",
    "    from_=alt.LookupData(state_counts, 'id', list(state_counts.columns))\n",
    ").project(\n",
    "    type='albersUsa'\n",
    ").properties(\n",
    "    width=500,\n",
    "    height=300\n",
    ")"
   ]
  },
  {
   "cell_type": "code",
   "execution_count": null,
   "metadata": {},
   "outputs": [],
   "source": [
    "# Total heatmap of all hatecrimes in continental US -- consider adjusting for population"
   ]
  },
  {
   "cell_type": "code",
   "execution_count": null,
   "metadata": {},
   "outputs": [],
   "source": [
    "hatecrimes.groupby(['offense_name']).size().sort_values(ascending=False).head(10)"
   ]
  },
  {
   "cell_type": "code",
   "execution_count": null,
   "metadata": {},
   "outputs": [],
   "source": [
    "alt.Chart(hatecrimes).mark_bar().encode(\n",
    "        x='offender_race:O',\n",
    "        y = 'count():N'\n",
    "    ).display()"
   ]
  },
  {
   "cell_type": "code",
   "execution_count": 9,
   "metadata": {},
   "outputs": [],
   "source": [
    "# Tracking hate crimes specifically in 2019-2023\n",
    "years = [2019, 2020, 2021, 2022, 2023]\n",
    "hatecrimes1924= hatecrimes.loc[hatecrimes['data_year'].isin(years)]"
   ]
  },
  {
   "cell_type": "code",
   "execution_count": 10,
   "metadata": {},
   "outputs": [],
   "source": [
    "hatecrimes1924.groupby(['bias_desc']).size().sort_values(ascending=False).head(10)\n",
    "top10_rec = [\"Anti-Black or African American\", \"Anti-Jewish\", \"Anti-White\", \"Anti-Gay (Male)\", \"Anti-Hispanic or Latino\", \"Anti-Other Race/Ethnicity/Ancestry\",\"Anti-Lesbian, Gay, Bisexual, or Transgender (Mixed Group)\", \"Anti-Asian\", \"Anti-Multiple Races, Group\", \"Anti-Transgender\"]\n",
    "hatecrimestop10_rec = hatecrimes1924.loc[hatecrimes1924['bias_desc'].isin(top10_rec)]\n"
   ]
  },
  {
   "cell_type": "code",
   "execution_count": null,
   "metadata": {},
   "outputs": [],
   "source": [
    "main_c = alt.Chart(hatecrimestop10_rec).mark_line().encode(\n",
    "        x='yearmonth(incident_date):O',\n",
    "        y = 'count()', \n",
    "        color='bias_desc:N'\n",
    "    )\n",
    "\n",
    "text1 = alt.Chart({'values': [{'x': 100, 'y': 500}]}).mark_text(\n",
    "    text=\"Murder of George Floyd\").encode(\n",
    "        alt.X('x:Q', axis=None),\n",
    "        y='y:Q')\n",
    "\n",
    "text2 = alt.Chart({'values': [{'x': 260, 'y': 150}]}).mark_text(\n",
    "    text=\"2021 Atlanta Spa Shootings\").encode(\n",
    "        alt.X('x:Q', axis=None),\n",
    "        y='y:Q')\n",
    "\n",
    "text3 = alt.Chart({'values': [{'x': 640, 'y': 300}]}).mark_text(\n",
    "    text=\"Hamas Attacks Israel\").encode(\n",
    "        alt.X('x:Q', axis=None).scale(domain=(-100, 100)),\n",
    "        y='y:Q')\n",
    "\n",
    "text = text3 + text2 + text1\n",
    "main_c + text\n",
    "# Want to add text here to note particular events that saw a spike -- George Floyd's murder, the 2021 Atlanta spa shootings, Oct. 7"
   ]
  }
 ],
 "metadata": {
  "kernelspec": {
   "display_name": "Python 3",
   "language": "python",
   "name": "python3"
  },
  "language_info": {
   "codemirror_mode": {
    "name": "ipython",
    "version": 3
   },
   "file_extension": ".py",
   "mimetype": "text/x-python",
   "name": "python",
   "nbconvert_exporter": "python",
   "pygments_lexer": "ipython3",
   "version": "3.10.12"
  }
 },
 "nbformat": 4,
 "nbformat_minor": 4
}
