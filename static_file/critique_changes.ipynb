{
 "cells": [
  {
   "cell_type": "code",
   "execution_count": null,
   "metadata": {},
   "outputs": [],
   "source": [
    "# Imports, setup\n",
    "import pandas as pd\n",
    "import altair as alt\n",
    "import vega_datasets\n",
    "alt.data_transformers.disable_max_rows()\n",
    "\n",
    "# Data, default theme\n",
    "hatecrimes = pd.read_csv(\"../data/hate_crime.csv\")\n",
    "alt.themes.enable('fivethirtyeight')"
   ]
  },
  {
   "cell_type": "code",
   "execution_count": null,
   "metadata": {},
   "outputs": [],
   "source": [
    "# GRAPH 1 -- LINE CHART (ALL TIME)\n",
    "alt.Chart(hatecrimes, title='Hate Crimes Over Time').mark_line().encode(\n",
    "        alt.X('data_year:O').title(\"Year\"),\n",
    "        alt.Y('count():N').title(\"Hate Crime Incidents\"),\n",
    "        color=alt.value(\"#ad2e03\")\n",
    "    ).display()\n",
    "# Not many comments on this one"
   ]
  },
  {
   "cell_type": "code",
   "execution_count": null,
   "metadata": {},
   "outputs": [],
   "source": [
    "# GRAPH 2 -- LINE CHART (BY BIAS)\n",
    "# NOTE: The \"Top 10\" biases were found in 'exploration' files\n",
    "top10 = [\"Anti-Black or African American\", \"Anti-Jewish\", \"Anti-White\", \"Anti-Gay (Male)\", \"Anti-Hispanic or Latino\", \"Anti-Other Race/Ethnicity/Ancestry\",\"Anti-Lesbian, Gay, Bisexual, or Transgender (Mixed Group)\", \"Anti-Asian\", \"Anti-Multiple Races, Group\", \"Anti-Lesbian (Female)\"]\n",
    "hatecrimestop10 = hatecrimes.loc[hatecrimes['bias_desc'].isin(top10)]\n",
    "sorted_legend_list = ['Anti-Black or African American', 'Anti-Jewish', 'Anti-Gay (Male)', 'Anti-White', 'Anti-Hispanic or Latino', 'Anti-Lesbian, Gay, Bisexual, or Transgender (Mixed Group)', 'Anti-Asian', 'Anti-Other Race/Ethnicity/Ancestry', 'Anti-Multiple Races, Group', 'Anti-Lesbian (Female)']\n",
    "alt.Chart(hatecrimestop10, title=\"Hate Crimes by Bias Over Time\").mark_line().encode(\n",
    "        alt.X('data_year:O').title(\"Year\"),\n",
    "        alt.Y('count():N').title(\"Incidents\"),\n",
    "        alt.Color('bias_desc:N', legend=alt.Legend(labelLimit=300), sort=sorted_legend_list).title(\"Crime Bias\").scale(scheme='category10')\n",
    "    ).properties(height=500).display()\n",
    "# Main comment from criitque was to sort legend so it appears in the order on the chart, potentially expand y axis to better see variation"
   ]
  },
  {
   "cell_type": "code",
   "execution_count": null,
   "metadata": {},
   "outputs": [],
   "source": [
    "# GRAPH 3 -- HEATMAP (SEASONALITY)\n",
    "heatmap = alt.Chart(hatecrimes, title=\"Seasonality of Hate Crimes\").mark_rect().encode(\n",
    "    alt.X('date(incident_date):O').title(\"Date\"),\n",
    "    alt.Y('month(incident_date):O').title(\"Month\"),\n",
    "\n",
    "    # Previous way of coloring:\n",
    "    #alt.Color('count()').title(\"Incidents\").scale(scheme='orangered')\n",
    "\n",
    "    # New conditional way of coloring\n",
    "    color=alt.condition('datum.count > 0', \n",
    "                alt.Color('count()').title(\"Incidents\").scale(scheme='orangered'),  # color when true\n",
    "                alt.value('gray') # color when false\n",
    ")\n",
    ")\n",
    "\n",
    "# df = pd.DataFrame({'x': [30], 'y': ['Oct']})\n",
    "# rectangle = alt.Chart(df).mark_rect(color='', stroke='black').encode(\n",
    "#     x='x',\n",
    "#     y='y'\n",
    "# )\n",
    "# heatmap + rectangle\n",
    "heatmap\n",
    "# Main critiques: \"gray out\" ones with no data, \"highlight\" seasons with lots of hate crimes"
   ]
  },
  {
   "cell_type": "code",
   "execution_count": null,
   "metadata": {},
   "outputs": [],
   "source": [
    "# Using Altair's default state/ID dataset\n",
    "from vega_datasets import data\n",
    "states = alt.topo_feature(data.us_10m.url, feature='states')\n",
    "pop = data.population_engineers_hurricanes(usecols=['state', 'id', 'population'])\n",
    "hatecrimes_w_ids = hatecrimes.merge(pop, left_on='state_name', right_on='state')\n",
    "\n",
    "# Counting hatecrimes by state IDs\n",
    "state_counts = hatecrimes_w_ids.groupby(['id'], as_index=False).size()\n",
    "state_counts_w_pop = state_counts.merge(pop, left_on='id', right_on='id')\n",
    "state_counts_w_pop[\"percap\"] = state_counts_w_pop[\"size\"]/state_counts_w_pop[\"population\"]\n",
    "# GRAPH 4 -- US MAP\n",
    "states = alt.topo_feature(data.us_10m.url, 'states')\n",
    "alt.Chart(states, title=\"Hate Crimes Across the U.S.\").mark_geoshape().encode(\n",
    "    alt.Color('percap:Q').scale(scheme='browns').title(\"Hate Crime Incidents\")\n",
    ").transform_lookup(\n",
    "    lookup='id',\n",
    "    from_=alt.LookupData(state_counts_w_pop, 'id', list(state_counts_w_pop.columns))\n",
    ").project(\n",
    "    type='albersUsa'\n",
    ").properties(\n",
    "    width=500,\n",
    "    height=300\n",
    ")"
   ]
  },
  {
   "cell_type": "code",
   "execution_count": null,
   "metadata": {},
   "outputs": [],
   "source": [
    "# GRAPH 5 -- BAR CHART (OFFENDER RACE)\n",
    "hatecrimes_race= hatecrimes.loc[hatecrimes['offender_race'] != \"Not Specified\"]\n",
    "hatecrimes_race[\"offender_race\"] = hatecrimes_race[\"offender_race\"].replace(\"Multiple\", \"Multiple Races\")\n",
    "alt.Chart(hatecrimes_race, title=alt.Title(\"Hate Crimes by Offender Race\", subtitle=\"Among hate crimes where race was specified\")).transform_joinaggregate(\n",
    "    total='count(*)'\n",
    ").transform_calculate(pct = '1/datum.total').mark_bar().encode(\n",
    "        alt.Y('offender_race:O', axis=alt.Axis(labelLimit=200)).title(\"Offender Race\").sort('-x'),\n",
    "        alt.X('sum(pct):Q').title(\"Hate Crime Incidents\").scale(domain=(0,0.425)).axis(format='%'),\n",
    "        color=alt.value(\"#ad2e03\")\n",
    "    ).display()\n",
    "# Help converting to percentages here https://stackoverflow.com/questions/56358977/how-to-show-a-histogram-of-percentages-instead-of-counts-using-altair\n",
    "# Main critique: clarify \"multiple races\", deal with not specified/unknown, possibly change to percentages"
   ]
  },
  {
   "cell_type": "code",
   "execution_count": null,
   "metadata": {},
   "outputs": [],
   "source": [
    "main_c = alt.Chart(hatecrimestop10_rec, title=\"Top Hate Crimes From 2019-2023\").mark_line().encode(\n",
    "        alt.X('yearmonth(incident_date):T').title('Month'),\n",
    "        alt.Y('count()').title('Hate Crime Incidents'), \n",
    "        alt.Color('bias_desc:N', legend=alt.Legend(labelLimit=300), sort=sorted_legend_list).title(\"Bias\")\n",
    "    ).properties(height=500, width=1500)\n",
    "\n",
    "text1 = alt.Chart(pd.DataFrame({'incident_date': ['2020-05-25'], 'label': [\"Murder of George Floyd\"]})).mark_text(\n",
    "    dx=-75, dy=75\n",
    "    ).encode(\n",
    "        alt.X('yearmonth(incident_date):T'),\n",
    "        text='label:N')\n",
    "\n",
    "text2 = alt.Chart(pd.DataFrame({'incident_date': ['2021-03-16'], 'label': [\"2021 Atlanta Spa Shootings\"]})).mark_text(\n",
    "    dx=-75, dy=150\n",
    "    ).encode(\n",
    "        alt.X('yearmonth(incident_date):T'),\n",
    "        text='label:N')\n",
    "\n",
    "text3 = alt.Chart(pd.DataFrame({'incident_date': ['2023-10-07'], 'label': [\"Hamas Attacks Israel\"]})).mark_text(\n",
    "    dx=-60\n",
    "    ).encode(\n",
    "        alt.X('yearmonth(incident_date):T'),\n",
    "        text='label:N')\n",
    "text = text1 + text2 + text3\n",
    "\n",
    "line1 = alt.Chart(pd.DataFrame({'incident_date': ['2020-05-25']})).mark_rule(color='#808080').encode(\n",
    "    x='yearmonth(incident_date):T'\n",
    ")\n",
    "line2 = alt.Chart(pd.DataFrame({'incident_date': ['2021-03-16']})).mark_rule(color='#808080').encode(\n",
    "    x='yearmonth(incident_date):T'\n",
    ")\n",
    "line3 = alt.Chart(pd.DataFrame({'incident_date': ['2023-10-07']})).mark_rule(color='#808080').encode(\n",
    "    x='yearmonth(incident_date):T'\n",
    ")\n",
    "lines = line1 + line2 + line3\n",
    "\n",
    "dot_1 = alt.Chart(pd.DataFrame({'incident_date': ['2020-05-25'], 'y': 250})).mark_point(color='#000000').encode(\n",
    "        x='yearmonth(incident_date):T',\n",
    "        y='y'\n",
    ")\n",
    "dot_2 = alt.Chart(pd.DataFrame({'incident_date': ['2021-03-16'], 'y': 125})).mark_point(color='#000000').encode(\n",
    "        x='yearmonth(incident_date):T',\n",
    "        y='y'\n",
    ")\n",
    "dot_3 = alt.Chart(pd.DataFrame({'incident_date': ['2023-10-07'], 'y': 325})).mark_point(color='#000000').encode(\n",
    "        x='yearmonth(incident_date):T',\n",
    "        y='y'\n",
    ")\n",
    "dots = dot_1 + dot_2 + dot_3\n",
    "\n",
    "main_c + text + lines + dots\n",
    "# Main critique: legend sorting, vertical lines/dots on important events\n",
    "# Credit to Dorka for helping me clean up this section of my code :) <3"
   ]
  },
  {
   "cell_type": "code",
   "execution_count": null,
   "metadata": {},
   "outputs": [],
   "source": [
    "# GRAPH 7 - SCATTERPLOT?\n",
    "hatecrimes_people = hatecrimes.loc[hatecrimes['total_individual_victims'] > 0]\n",
    "alt.Chart(hatecrimes_people, title=alt.Title('Number of Offenders vs. Number of Victims', subtitle='Among Crimes with <50 Victims and Offenders')).mark_circle(clip=True).encode(\n",
    "    alt.X('total_offender_count').title(\"Total Offenders\").scale(domain=(0,50)),\n",
    "    alt.Y('total_individual_victims').title(\"Total Victims\").scale(domain=(0,50)),\n",
    "    color=alt.value(\"#ad2e03\")\n",
    ").display()\n",
    "# Main critique: consider 'zooming in', deal with outliers, make sure axis is same on both sides"
   ]
  },
  {
   "cell_type": "code",
   "execution_count": null,
   "metadata": {},
   "outputs": [],
   "source": [
    "# Filtering to find most popular locations\n",
    "display(hatecrimes.groupby(['location_name']).size().sort_values(ascending=False).head(11))\n",
    "top_locs = [\"Residence/Home\", \"Highway/Road/Alley/Street/Sidewalk\", \"Government/Public Building\", \"School/College\", \"Parking/Drop Lot/Garage\", \"Church/Synagogue/Temple/Mosque\", \"Commercial/Office Building\", \"Restaurant\", \"School-Elementary/Secondary\", \"Bar/Nightclub\"]\n",
    "hatecrimestop10_loc = hatecrimes.loc[hatecrimes['location_name'].isin(top_locs)]\n"
   ]
  },
  {
   "cell_type": "code",
   "execution_count": null,
   "metadata": {},
   "outputs": [],
   "source": [
    "# GRAPH 8 - BAR CHART (LOCATIONS)\n",
    "alt.Chart(hatecrimestop10_loc, title=\"Top Locations of Hate Crimes\").mark_bar().encode(\n",
    "        alt.Y('location_name:O', axis=alt.Axis(labelLimit=200)).title(\"Location of Incident\").sort('-x'),\n",
    "        alt.X('count():N').title(\"Hate Crime Incidents\"),\n",
    "        color=alt.value(\"#ad2e03\")\n",
    "    ).display()\n",
    "\n",
    "# Main critique: 'unknowns' here not relevant to story"
   ]
  }
 ],
 "metadata": {
  "kernelspec": {
   "display_name": "Python 3",
   "language": "python",
   "name": "python3"
  },
  "language_info": {
   "codemirror_mode": {
    "name": "ipython",
    "version": 3
   },
   "file_extension": ".py",
   "mimetype": "text/x-python",
   "name": "python",
   "nbconvert_exporter": "python",
   "pygments_lexer": "ipython3",
   "version": "3.10.12"
  }
 },
 "nbformat": 4,
 "nbformat_minor": 2
}
